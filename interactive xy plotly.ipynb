{
 "cells": [
  {
   "cell_type": "code",
   "execution_count": null,
   "metadata": {},
   "outputs": [],
   "source": []
  },
  {
   "cell_type": "code",
   "execution_count": 1,
   "metadata": {
    "ExecuteTime": {
     "end_time": "2020-05-16T14:15:32.143046Z",
     "start_time": "2020-05-16T14:15:30.491969Z"
    }
   },
   "outputs": [
    {
     "ename": "KeyError",
     "evalue": "'Last Update'",
     "output_type": "error",
     "traceback": [
      "\u001b[1;31m---------------------------------------------------------------------------\u001b[0m",
      "\u001b[1;31mKeyError\u001b[0m                                  Traceback (most recent call last)",
      "\u001b[1;32m~\\anaconda3\\lib\\site-packages\\pandas\\core\\indexes\\base.py\u001b[0m in \u001b[0;36mget_loc\u001b[1;34m(self, key, method, tolerance)\u001b[0m\n\u001b[0;32m   2645\u001b[0m             \u001b[1;32mtry\u001b[0m\u001b[1;33m:\u001b[0m\u001b[1;33m\u001b[0m\u001b[1;33m\u001b[0m\u001b[0m\n\u001b[1;32m-> 2646\u001b[1;33m                 \u001b[1;32mreturn\u001b[0m \u001b[0mself\u001b[0m\u001b[1;33m.\u001b[0m\u001b[0m_engine\u001b[0m\u001b[1;33m.\u001b[0m\u001b[0mget_loc\u001b[0m\u001b[1;33m(\u001b[0m\u001b[0mkey\u001b[0m\u001b[1;33m)\u001b[0m\u001b[1;33m\u001b[0m\u001b[1;33m\u001b[0m\u001b[0m\n\u001b[0m\u001b[0;32m   2647\u001b[0m             \u001b[1;32mexcept\u001b[0m \u001b[0mKeyError\u001b[0m\u001b[1;33m:\u001b[0m\u001b[1;33m\u001b[0m\u001b[1;33m\u001b[0m\u001b[0m\n",
      "\u001b[1;32mpandas\\_libs\\index.pyx\u001b[0m in \u001b[0;36mpandas._libs.index.IndexEngine.get_loc\u001b[1;34m()\u001b[0m\n",
      "\u001b[1;32mpandas\\_libs\\index.pyx\u001b[0m in \u001b[0;36mpandas._libs.index.IndexEngine.get_loc\u001b[1;34m()\u001b[0m\n",
      "\u001b[1;32mpandas\\_libs\\hashtable_class_helper.pxi\u001b[0m in \u001b[0;36mpandas._libs.hashtable.PyObjectHashTable.get_item\u001b[1;34m()\u001b[0m\n",
      "\u001b[1;32mpandas\\_libs\\hashtable_class_helper.pxi\u001b[0m in \u001b[0;36mpandas._libs.hashtable.PyObjectHashTable.get_item\u001b[1;34m()\u001b[0m\n",
      "\u001b[1;31mKeyError\u001b[0m: 'Last Update'",
      "\nDuring handling of the above exception, another exception occurred:\n",
      "\u001b[1;31mKeyError\u001b[0m                                  Traceback (most recent call last)",
      "\u001b[1;32m<ipython-input-1-009bbef33feb>\u001b[0m in \u001b[0;36m<module>\u001b[1;34m\u001b[0m\n\u001b[0;32m     11\u001b[0m \u001b[1;32mfor\u001b[0m \u001b[0mi\u001b[0m \u001b[1;32min\u001b[0m \u001b[0mtxtfiles\u001b[0m\u001b[1;33m:\u001b[0m\u001b[1;33m\u001b[0m\u001b[1;33m\u001b[0m\u001b[0m\n\u001b[0;32m     12\u001b[0m     \u001b[0mtemp_file\u001b[0m \u001b[1;33m=\u001b[0m \u001b[0mpd\u001b[0m\u001b[1;33m.\u001b[0m\u001b[0mread_csv\u001b[0m\u001b[1;33m(\u001b[0m\u001b[1;34m\"COVID-19/csse_covid_19_data/csse_covid_19_daily_reports/{}\"\u001b[0m\u001b[1;33m.\u001b[0m\u001b[0mformat\u001b[0m\u001b[1;33m(\u001b[0m\u001b[0mi\u001b[0m\u001b[1;33m)\u001b[0m\u001b[1;33m)\u001b[0m\u001b[1;33m\u001b[0m\u001b[1;33m\u001b[0m\u001b[0m\n\u001b[1;32m---> 13\u001b[1;33m     \u001b[0mtemp_file\u001b[0m\u001b[1;33m[\u001b[0m\u001b[1;34m'Last Update'\u001b[0m\u001b[1;33m]\u001b[0m \u001b[1;33m=\u001b[0m \u001b[0mpd\u001b[0m\u001b[1;33m.\u001b[0m\u001b[0mto_datetime\u001b[0m\u001b[1;33m(\u001b[0m\u001b[0mtemp_file\u001b[0m\u001b[1;33m[\u001b[0m\u001b[1;34m'Last Update'\u001b[0m\u001b[1;33m]\u001b[0m\u001b[1;33m)\u001b[0m\u001b[1;33m\u001b[0m\u001b[1;33m\u001b[0m\u001b[0m\n\u001b[0m\u001b[0;32m     14\u001b[0m     \u001b[0mtemp_date\u001b[0m \u001b[1;33m=\u001b[0m \u001b[0mtemp_file\u001b[0m\u001b[1;33m[\u001b[0m\u001b[1;34m'Last Update'\u001b[0m\u001b[1;33m]\u001b[0m\u001b[1;33m[\u001b[0m\u001b[1;36m0\u001b[0m\u001b[1;33m]\u001b[0m\u001b[1;33m.\u001b[0m\u001b[0mdate\u001b[0m\u001b[1;33m(\u001b[0m\u001b[1;33m)\u001b[0m\u001b[1;33m\u001b[0m\u001b[1;33m\u001b[0m\u001b[0m\n\u001b[0;32m     15\u001b[0m \u001b[1;33m\u001b[0m\u001b[0m\n",
      "\u001b[1;32m~\\anaconda3\\lib\\site-packages\\pandas\\core\\frame.py\u001b[0m in \u001b[0;36m__getitem__\u001b[1;34m(self, key)\u001b[0m\n\u001b[0;32m   2798\u001b[0m             \u001b[1;32mif\u001b[0m \u001b[0mself\u001b[0m\u001b[1;33m.\u001b[0m\u001b[0mcolumns\u001b[0m\u001b[1;33m.\u001b[0m\u001b[0mnlevels\u001b[0m \u001b[1;33m>\u001b[0m \u001b[1;36m1\u001b[0m\u001b[1;33m:\u001b[0m\u001b[1;33m\u001b[0m\u001b[1;33m\u001b[0m\u001b[0m\n\u001b[0;32m   2799\u001b[0m                 \u001b[1;32mreturn\u001b[0m \u001b[0mself\u001b[0m\u001b[1;33m.\u001b[0m\u001b[0m_getitem_multilevel\u001b[0m\u001b[1;33m(\u001b[0m\u001b[0mkey\u001b[0m\u001b[1;33m)\u001b[0m\u001b[1;33m\u001b[0m\u001b[1;33m\u001b[0m\u001b[0m\n\u001b[1;32m-> 2800\u001b[1;33m             \u001b[0mindexer\u001b[0m \u001b[1;33m=\u001b[0m \u001b[0mself\u001b[0m\u001b[1;33m.\u001b[0m\u001b[0mcolumns\u001b[0m\u001b[1;33m.\u001b[0m\u001b[0mget_loc\u001b[0m\u001b[1;33m(\u001b[0m\u001b[0mkey\u001b[0m\u001b[1;33m)\u001b[0m\u001b[1;33m\u001b[0m\u001b[1;33m\u001b[0m\u001b[0m\n\u001b[0m\u001b[0;32m   2801\u001b[0m             \u001b[1;32mif\u001b[0m \u001b[0mis_integer\u001b[0m\u001b[1;33m(\u001b[0m\u001b[0mindexer\u001b[0m\u001b[1;33m)\u001b[0m\u001b[1;33m:\u001b[0m\u001b[1;33m\u001b[0m\u001b[1;33m\u001b[0m\u001b[0m\n\u001b[0;32m   2802\u001b[0m                 \u001b[0mindexer\u001b[0m \u001b[1;33m=\u001b[0m \u001b[1;33m[\u001b[0m\u001b[0mindexer\u001b[0m\u001b[1;33m]\u001b[0m\u001b[1;33m\u001b[0m\u001b[1;33m\u001b[0m\u001b[0m\n",
      "\u001b[1;32m~\\anaconda3\\lib\\site-packages\\pandas\\core\\indexes\\base.py\u001b[0m in \u001b[0;36mget_loc\u001b[1;34m(self, key, method, tolerance)\u001b[0m\n\u001b[0;32m   2646\u001b[0m                 \u001b[1;32mreturn\u001b[0m \u001b[0mself\u001b[0m\u001b[1;33m.\u001b[0m\u001b[0m_engine\u001b[0m\u001b[1;33m.\u001b[0m\u001b[0mget_loc\u001b[0m\u001b[1;33m(\u001b[0m\u001b[0mkey\u001b[0m\u001b[1;33m)\u001b[0m\u001b[1;33m\u001b[0m\u001b[1;33m\u001b[0m\u001b[0m\n\u001b[0;32m   2647\u001b[0m             \u001b[1;32mexcept\u001b[0m \u001b[0mKeyError\u001b[0m\u001b[1;33m:\u001b[0m\u001b[1;33m\u001b[0m\u001b[1;33m\u001b[0m\u001b[0m\n\u001b[1;32m-> 2648\u001b[1;33m                 \u001b[1;32mreturn\u001b[0m \u001b[0mself\u001b[0m\u001b[1;33m.\u001b[0m\u001b[0m_engine\u001b[0m\u001b[1;33m.\u001b[0m\u001b[0mget_loc\u001b[0m\u001b[1;33m(\u001b[0m\u001b[0mself\u001b[0m\u001b[1;33m.\u001b[0m\u001b[0m_maybe_cast_indexer\u001b[0m\u001b[1;33m(\u001b[0m\u001b[0mkey\u001b[0m\u001b[1;33m)\u001b[0m\u001b[1;33m)\u001b[0m\u001b[1;33m\u001b[0m\u001b[1;33m\u001b[0m\u001b[0m\n\u001b[0m\u001b[0;32m   2649\u001b[0m         \u001b[0mindexer\u001b[0m \u001b[1;33m=\u001b[0m \u001b[0mself\u001b[0m\u001b[1;33m.\u001b[0m\u001b[0mget_indexer\u001b[0m\u001b[1;33m(\u001b[0m\u001b[1;33m[\u001b[0m\u001b[0mkey\u001b[0m\u001b[1;33m]\u001b[0m\u001b[1;33m,\u001b[0m \u001b[0mmethod\u001b[0m\u001b[1;33m=\u001b[0m\u001b[0mmethod\u001b[0m\u001b[1;33m,\u001b[0m \u001b[0mtolerance\u001b[0m\u001b[1;33m=\u001b[0m\u001b[0mtolerance\u001b[0m\u001b[1;33m)\u001b[0m\u001b[1;33m\u001b[0m\u001b[1;33m\u001b[0m\u001b[0m\n\u001b[0;32m   2650\u001b[0m         \u001b[1;32mif\u001b[0m \u001b[0mindexer\u001b[0m\u001b[1;33m.\u001b[0m\u001b[0mndim\u001b[0m \u001b[1;33m>\u001b[0m \u001b[1;36m1\u001b[0m \u001b[1;32mor\u001b[0m \u001b[0mindexer\u001b[0m\u001b[1;33m.\u001b[0m\u001b[0msize\u001b[0m \u001b[1;33m>\u001b[0m \u001b[1;36m1\u001b[0m\u001b[1;33m:\u001b[0m\u001b[1;33m\u001b[0m\u001b[1;33m\u001b[0m\u001b[0m\n",
      "\u001b[1;32mpandas\\_libs\\index.pyx\u001b[0m in \u001b[0;36mpandas._libs.index.IndexEngine.get_loc\u001b[1;34m()\u001b[0m\n",
      "\u001b[1;32mpandas\\_libs\\index.pyx\u001b[0m in \u001b[0;36mpandas._libs.index.IndexEngine.get_loc\u001b[1;34m()\u001b[0m\n",
      "\u001b[1;32mpandas\\_libs\\hashtable_class_helper.pxi\u001b[0m in \u001b[0;36mpandas._libs.hashtable.PyObjectHashTable.get_item\u001b[1;34m()\u001b[0m\n",
      "\u001b[1;32mpandas\\_libs\\hashtable_class_helper.pxi\u001b[0m in \u001b[0;36mpandas._libs.hashtable.PyObjectHashTable.get_item\u001b[1;34m()\u001b[0m\n",
      "\u001b[1;31mKeyError\u001b[0m: 'Last Update'"
     ]
    }
   ],
   "source": [
    "import pandas as pd\n",
    "import glob\n",
    "\n",
    "txtfiles = []\n",
    "for file in glob.glob(\"COVID-19/csse_covid_19_data/csse_covid_19_daily_reports/*.csv\"):\n",
    "    txtfiles.append(file[56:])\n",
    "\n",
    "main_df=pd.DataFrame()\n",
    "\n",
    "\n",
    "for i in txtfiles:\n",
    "    temp_file = pd.read_csv(\"COVID-19/csse_covid_19_data/csse_covid_19_daily_reports/{}\".format(i))\n",
    "    temp_file['Last Update'] = pd.to_datetime(temp_file['Last Update'])\n",
    "    temp_date = temp_file['Last Update'][0].date()\n",
    "\n",
    "    temp_df = temp_file.groupby('Country/Region').sum()\n",
    "    temp_df['record_date']=temp_date\n",
    "\n",
    "    main_df = main_df.append(temp_df)\n",
    "\n",
    "temp.groupby(temp.index).resample('W', on='record_date').sum()\n",
    "main_df.to_excel(\"covid_aggregated.xls\")"
   ]
  },
  {
   "cell_type": "code",
   "execution_count": 2,
   "metadata": {
    "ExecuteTime": {
     "end_time": "2020-05-16T14:15:44.074723Z",
     "start_time": "2020-05-16T14:15:42.646100Z"
    }
   },
   "outputs": [],
   "source": [
    "\n",
    "for i in txtfiles[txtfiles.index(i):]:\n",
    "    temp_file = pd.read_csv(\"COVID-19/csse_covid_19_data/csse_covid_19_daily_reports/{}\".format(i))\n",
    "    temp_file['Last_Update'] = pd.to_datetime(temp_file['Last_Update'])\n",
    "    temp_date = temp_file['Last_Update'][0].date()\n",
    "\n",
    "    temp_df = temp_file.groupby('Country_Region').sum()\n",
    "    temp_df['record_date']=temp_date\n",
    "\n",
    "    main_df = main_df.append(temp_df)\n",
    "\n"
   ]
  },
  {
   "cell_type": "code",
   "execution_count": 3,
   "metadata": {
    "ExecuteTime": {
     "end_time": "2020-05-16T14:22:37.542562Z",
     "start_time": "2020-05-16T14:22:37.534583Z"
    }
   },
   "outputs": [],
   "source": [
    "temp_df['record_date'] = pd.to_datetime(temp_df['record_date'])"
   ]
  },
  {
   "cell_type": "code",
   "execution_count": 4,
   "metadata": {
    "ExecuteTime": {
     "end_time": "2020-05-16T14:22:42.976062Z",
     "start_time": "2020-05-16T14:22:39.403487Z"
    }
   },
   "outputs": [],
   "source": [
    "temp_df.groupby(temp_df.index).resample('W', on='record_date').sum()\n",
    "main_df.to_excel(\"covid_aggregated.xls\")"
   ]
  },
  {
   "cell_type": "code",
   "execution_count": 5,
   "metadata": {
    "ExecuteTime": {
     "end_time": "2020-05-16T14:24:08.018337Z",
     "start_time": "2020-05-16T14:24:07.986423Z"
    }
   },
   "outputs": [
    {
     "data": {
      "text/html": [
       "<div>\n",
       "<style scoped>\n",
       "    .dataframe tbody tr th:only-of-type {\n",
       "        vertical-align: middle;\n",
       "    }\n",
       "\n",
       "    .dataframe tbody tr th {\n",
       "        vertical-align: top;\n",
       "    }\n",
       "\n",
       "    .dataframe thead th {\n",
       "        text-align: right;\n",
       "    }\n",
       "</style>\n",
       "<table border=\"1\" class=\"dataframe\">\n",
       "  <thead>\n",
       "    <tr style=\"text-align: right;\">\n",
       "      <th></th>\n",
       "      <th>Confirmed</th>\n",
       "      <th>Deaths</th>\n",
       "      <th>Recovered</th>\n",
       "      <th>record_date</th>\n",
       "      <th>Latitude</th>\n",
       "      <th>Longitude</th>\n",
       "      <th>FIPS</th>\n",
       "      <th>Lat</th>\n",
       "      <th>Long_</th>\n",
       "      <th>Active</th>\n",
       "    </tr>\n",
       "  </thead>\n",
       "  <tbody>\n",
       "    <tr>\n",
       "      <th>US</th>\n",
       "      <td>1508308.0</td>\n",
       "      <td>90347.0</td>\n",
       "      <td>283178.0</td>\n",
       "      <td>2020-05-19</td>\n",
       "      <td>NaN</td>\n",
       "      <td>NaN</td>\n",
       "      <td>93474536.0</td>\n",
       "      <td>111746.843912</td>\n",
       "      <td>-266850.534229</td>\n",
       "      <td>1135016.0</td>\n",
       "    </tr>\n",
       "    <tr>\n",
       "      <th>Russia</th>\n",
       "      <td>290678.0</td>\n",
       "      <td>2722.0</td>\n",
       "      <td>70209.0</td>\n",
       "      <td>2020-05-19</td>\n",
       "      <td>NaN</td>\n",
       "      <td>NaN</td>\n",
       "      <td>0.0</td>\n",
       "      <td>61.524010</td>\n",
       "      <td>105.318756</td>\n",
       "      <td>217747.0</td>\n",
       "    </tr>\n",
       "    <tr>\n",
       "      <th>Brazil</th>\n",
       "      <td>255368.0</td>\n",
       "      <td>16853.0</td>\n",
       "      <td>100459.0</td>\n",
       "      <td>2020-05-19</td>\n",
       "      <td>NaN</td>\n",
       "      <td>NaN</td>\n",
       "      <td>0.0</td>\n",
       "      <td>-14.235000</td>\n",
       "      <td>-51.925300</td>\n",
       "      <td>138056.0</td>\n",
       "    </tr>\n",
       "    <tr>\n",
       "      <th>United Kingdom</th>\n",
       "      <td>247709.0</td>\n",
       "      <td>34876.0</td>\n",
       "      <td>1090.0</td>\n",
       "      <td>2020-05-19</td>\n",
       "      <td>NaN</td>\n",
       "      <td>NaN</td>\n",
       "      <td>0.0</td>\n",
       "      <td>270.029898</td>\n",
       "      <td>-482.924666</td>\n",
       "      <td>211743.0</td>\n",
       "    </tr>\n",
       "    <tr>\n",
       "      <th>Spain</th>\n",
       "      <td>231606.0</td>\n",
       "      <td>27709.0</td>\n",
       "      <td>150376.0</td>\n",
       "      <td>2020-05-19</td>\n",
       "      <td>NaN</td>\n",
       "      <td>NaN</td>\n",
       "      <td>0.0</td>\n",
       "      <td>755.510158</td>\n",
       "      <td>-69.972552</td>\n",
       "      <td>53521.0</td>\n",
       "    </tr>\n",
       "    <tr>\n",
       "      <th>Italy</th>\n",
       "      <td>225886.0</td>\n",
       "      <td>32007.0</td>\n",
       "      <td>127326.0</td>\n",
       "      <td>2020-05-19</td>\n",
       "      <td>NaN</td>\n",
       "      <td>NaN</td>\n",
       "      <td>0.0</td>\n",
       "      <td>903.972147</td>\n",
       "      <td>256.745065</td>\n",
       "      <td>66553.0</td>\n",
       "    </tr>\n",
       "    <tr>\n",
       "      <th>France</th>\n",
       "      <td>180051.0</td>\n",
       "      <td>28242.0</td>\n",
       "      <td>61843.0</td>\n",
       "      <td>2020-05-19</td>\n",
       "      <td>NaN</td>\n",
       "      <td>NaN</td>\n",
       "      <td>0.0</td>\n",
       "      <td>91.463495</td>\n",
       "      <td>-238.646914</td>\n",
       "      <td>89966.0</td>\n",
       "    </tr>\n",
       "    <tr>\n",
       "      <th>Germany</th>\n",
       "      <td>176551.0</td>\n",
       "      <td>8003.0</td>\n",
       "      <td>155041.0</td>\n",
       "      <td>2020-05-19</td>\n",
       "      <td>NaN</td>\n",
       "      <td>NaN</td>\n",
       "      <td>0.0</td>\n",
       "      <td>825.149500</td>\n",
       "      <td>164.446100</td>\n",
       "      <td>13507.0</td>\n",
       "    </tr>\n",
       "    <tr>\n",
       "      <th>Turkey</th>\n",
       "      <td>150593.0</td>\n",
       "      <td>4171.0</td>\n",
       "      <td>111577.0</td>\n",
       "      <td>2020-05-19</td>\n",
       "      <td>NaN</td>\n",
       "      <td>NaN</td>\n",
       "      <td>0.0</td>\n",
       "      <td>38.963700</td>\n",
       "      <td>35.243300</td>\n",
       "      <td>34845.0</td>\n",
       "    </tr>\n",
       "    <tr>\n",
       "      <th>Iran</th>\n",
       "      <td>122492.0</td>\n",
       "      <td>7057.0</td>\n",
       "      <td>95661.0</td>\n",
       "      <td>2020-05-19</td>\n",
       "      <td>NaN</td>\n",
       "      <td>NaN</td>\n",
       "      <td>0.0</td>\n",
       "      <td>32.427908</td>\n",
       "      <td>53.688046</td>\n",
       "      <td>19774.0</td>\n",
       "    </tr>\n",
       "    <tr>\n",
       "      <th>India</th>\n",
       "      <td>100328.0</td>\n",
       "      <td>3156.0</td>\n",
       "      <td>39233.0</td>\n",
       "      <td>2020-05-19</td>\n",
       "      <td>NaN</td>\n",
       "      <td>NaN</td>\n",
       "      <td>0.0</td>\n",
       "      <td>20.593684</td>\n",
       "      <td>78.962880</td>\n",
       "      <td>57939.0</td>\n",
       "    </tr>\n",
       "  </tbody>\n",
       "</table>\n",
       "</div>"
      ],
      "text/plain": [
       "                Confirmed   Deaths  Recovered record_date  Latitude  \\\n",
       "US              1508308.0  90347.0   283178.0  2020-05-19       NaN   \n",
       "Russia           290678.0   2722.0    70209.0  2020-05-19       NaN   \n",
       "Brazil           255368.0  16853.0   100459.0  2020-05-19       NaN   \n",
       "United Kingdom   247709.0  34876.0     1090.0  2020-05-19       NaN   \n",
       "Spain            231606.0  27709.0   150376.0  2020-05-19       NaN   \n",
       "Italy            225886.0  32007.0   127326.0  2020-05-19       NaN   \n",
       "France           180051.0  28242.0    61843.0  2020-05-19       NaN   \n",
       "Germany          176551.0   8003.0   155041.0  2020-05-19       NaN   \n",
       "Turkey           150593.0   4171.0   111577.0  2020-05-19       NaN   \n",
       "Iran             122492.0   7057.0    95661.0  2020-05-19       NaN   \n",
       "India            100328.0   3156.0    39233.0  2020-05-19       NaN   \n",
       "\n",
       "                Longitude        FIPS            Lat          Long_     Active  \n",
       "US                    NaN  93474536.0  111746.843912 -266850.534229  1135016.0  \n",
       "Russia                NaN         0.0      61.524010     105.318756   217747.0  \n",
       "Brazil                NaN         0.0     -14.235000     -51.925300   138056.0  \n",
       "United Kingdom        NaN         0.0     270.029898    -482.924666   211743.0  \n",
       "Spain                 NaN         0.0     755.510158     -69.972552    53521.0  \n",
       "Italy                 NaN         0.0     903.972147     256.745065    66553.0  \n",
       "France                NaN         0.0      91.463495    -238.646914    89966.0  \n",
       "Germany               NaN         0.0     825.149500     164.446100    13507.0  \n",
       "Turkey                NaN         0.0      38.963700      35.243300    34845.0  \n",
       "Iran                  NaN         0.0      32.427908      53.688046    19774.0  \n",
       "India                 NaN         0.0      20.593684      78.962880    57939.0  "
      ]
     },
     "execution_count": 5,
     "metadata": {},
     "output_type": "execute_result"
    }
   ],
   "source": [
    "main_df.groupby(main_df.index).tail(1).sort_values('Confirmed', ascending=False).head(11)"
   ]
  },
  {
   "cell_type": "code",
   "execution_count": 6,
   "metadata": {
    "ExecuteTime": {
     "end_time": "2020-05-16T14:25:11.652339Z",
     "start_time": "2020-05-16T14:25:11.642366Z"
    }
   },
   "outputs": [],
   "source": [
    "main_df2 = main_df[main_df.index.isin(['US', 'Italy', 'Spain', 'France', 'United Kingdom', 'China', 'Iran',\n",
    "       'Belgium', 'Germany', 'Netherlands', 'Brazil', 'India', 'Russia', 'Turkey'])]\n"
   ]
  },
  {
   "cell_type": "code",
   "execution_count": null,
   "metadata": {
    "ExecuteTime": {
     "end_time": "2020-05-14T00:00:40.842573Z",
     "start_time": "2020-05-14T00:00:40.814647Z"
    }
   },
   "outputs": [],
   "source": []
  },
  {
   "cell_type": "code",
   "execution_count": 7,
   "metadata": {
    "ExecuteTime": {
     "end_time": "2020-05-16T14:25:16.258573Z",
     "start_time": "2020-05-16T14:25:16.251629Z"
    }
   },
   "outputs": [
    {
     "name": "stderr",
     "output_type": "stream",
     "text": [
      "C:\\Users\\Vishal\\anaconda3\\lib\\site-packages\\ipykernel_launcher.py:1: SettingWithCopyWarning: \n",
      "A value is trying to be set on a copy of a slice from a DataFrame.\n",
      "Try using .loc[row_indexer,col_indexer] = value instead\n",
      "\n",
      "See the caveats in the documentation: https://pandas.pydata.org/pandas-docs/stable/user_guide/indexing.html#returning-a-view-versus-a-copy\n",
      "  \"\"\"Entry point for launching an IPython kernel.\n"
     ]
    }
   ],
   "source": [
    "main_df2['Population(m)'] = 0\n"
   ]
  },
  {
   "cell_type": "code",
   "execution_count": 8,
   "metadata": {
    "ExecuteTime": {
     "end_time": "2020-05-16T14:28:16.723954Z",
     "start_time": "2020-05-16T14:28:16.688010Z"
    }
   },
   "outputs": [
    {
     "name": "stderr",
     "output_type": "stream",
     "text": [
      "C:\\Users\\Vishal\\anaconda3\\lib\\site-packages\\pandas\\core\\indexing.py:965: SettingWithCopyWarning: \n",
      "A value is trying to be set on a copy of a slice from a DataFrame.\n",
      "Try using .loc[row_indexer,col_indexer] = value instead\n",
      "\n",
      "See the caveats in the documentation: https://pandas.pydata.org/pandas-docs/stable/user_guide/indexing.html#returning-a-view-versus-a-copy\n",
      "  self.obj[item] = s\n"
     ]
    }
   ],
   "source": [
    "main_df2.loc[main_df2.index=='US','Population(m)'] = 328\n",
    "main_df2.loc[main_df2.index=='Spain','Population(m)'] = 47\n",
    "main_df2.loc[main_df2.index=='Italy','Population(m)'] = 60\n",
    "main_df2.loc[main_df2.index=='Belgium','Population(m)'] = 11\n",
    "main_df2.loc[main_df2.index=='France','Population(m)'] = 67\n",
    "main_df2.loc[main_df2.index=='United Kingdom','Population(m)'] = 67\n",
    "main_df2.loc[main_df2.index=='China','Population(m)'] = 1393\n",
    "main_df2.loc[main_df2.index=='Iran','Population(m)'] = 82\n",
    "main_df2.loc[main_df2.index=='Germany','Population(m)'] = 83\n",
    "main_df2.loc[main_df2.index=='Netherlands','Population(m)'] = 17\n",
    "main_df2.loc[main_df2.index=='Brazil','Population(m)'] = 210\n",
    "main_df2.loc[main_df2.index=='India','Population(m)'] = 1366\n",
    "main_df2.loc[main_df2.index=='Russia','Population(m)'] = 145\n",
    "main_df2.loc[main_df2.index=='Turkey','Population(m)'] = 83\n"
   ]
  },
  {
   "cell_type": "code",
   "execution_count": 9,
   "metadata": {
    "ExecuteTime": {
     "end_time": "2020-05-16T14:28:24.791665Z",
     "start_time": "2020-05-16T14:28:24.761748Z"
    }
   },
   "outputs": [
    {
     "name": "stderr",
     "output_type": "stream",
     "text": [
      "C:\\Users\\Vishal\\anaconda3\\lib\\site-packages\\pandas\\core\\indexing.py:844: SettingWithCopyWarning: \n",
      "A value is trying to be set on a copy of a slice from a DataFrame.\n",
      "Try using .loc[row_indexer,col_indexer] = value instead\n",
      "\n",
      "See the caveats in the documentation: https://pandas.pydata.org/pandas-docs/stable/user_guide/indexing.html#returning-a-view-versus-a-copy\n",
      "  self.obj[key] = _infer_fill_value(value)\n"
     ]
    }
   ],
   "source": [
    "main_df2.loc[main_df2.index=='US', 'Population density /sq mi'] = 87\n",
    "main_df2.loc[main_df2.index=='Spain', 'Population density /sq mi'] = 241\n",
    "main_df2.loc[main_df2.index=='Italy', 'Population density /sq mi'] = 518\n",
    "main_df2.loc[main_df2.index=='Belgium', 'Population density /sq mi'] = 974\n",
    "main_df2.loc[main_df2.index=='France', 'Population density /sq mi'] = 319\n",
    "main_df2.loc[main_df2.index=='United Kingdom', 'Population density /sq mi'] = 710\n",
    "main_df2.loc[main_df2.index=='China', 'Population density /sq mi'] = 377\n",
    "main_df2.loc[main_df2.index=='Iran', 'Population density /sq mi'] = 131\n",
    "main_df2.loc[main_df2.index=='Germany', 'Population density /sq mi'] = 603\n",
    "main_df2.loc[main_df2.index=='Netherlands', 'Population density /sq mi'] = 1089\n",
    "main_df2.loc[main_df2.index=='Brazil', 'Population density /sq mi'] = 64\n",
    "main_df2.loc[main_df2.index=='India','Population density /sq mi'] = 1073\n",
    "main_df2.loc[main_df2.index=='Russia','Population density /sq mi'] = 23\n",
    "main_df2.loc[main_df2.index=='Turkey','Population density /sq mi'] = 275\n"
   ]
  },
  {
   "cell_type": "code",
   "execution_count": 10,
   "metadata": {
    "ExecuteTime": {
     "end_time": "2020-05-16T14:28:29.789025Z",
     "start_time": "2020-05-16T14:28:29.768080Z"
    }
   },
   "outputs": [
    {
     "data": {
      "text/html": [
       "<div>\n",
       "<style scoped>\n",
       "    .dataframe tbody tr th:only-of-type {\n",
       "        vertical-align: middle;\n",
       "    }\n",
       "\n",
       "    .dataframe tbody tr th {\n",
       "        vertical-align: top;\n",
       "    }\n",
       "\n",
       "    .dataframe thead th {\n",
       "        text-align: right;\n",
       "    }\n",
       "</style>\n",
       "<table border=\"1\" class=\"dataframe\">\n",
       "  <thead>\n",
       "    <tr style=\"text-align: right;\">\n",
       "      <th></th>\n",
       "      <th>Confirmed</th>\n",
       "      <th>Deaths</th>\n",
       "      <th>Recovered</th>\n",
       "      <th>record_date</th>\n",
       "      <th>Latitude</th>\n",
       "      <th>Longitude</th>\n",
       "      <th>FIPS</th>\n",
       "      <th>Lat</th>\n",
       "      <th>Long_</th>\n",
       "      <th>Active</th>\n",
       "      <th>Population(m)</th>\n",
       "      <th>Population density /sq mi</th>\n",
       "    </tr>\n",
       "  </thead>\n",
       "  <tbody>\n",
       "    <tr>\n",
       "      <th>US</th>\n",
       "      <td>1.0</td>\n",
       "      <td>0.0</td>\n",
       "      <td>0.0</td>\n",
       "      <td>2020-01-22</td>\n",
       "      <td>NaN</td>\n",
       "      <td>NaN</td>\n",
       "      <td>NaN</td>\n",
       "      <td>NaN</td>\n",
       "      <td>NaN</td>\n",
       "      <td>NaN</td>\n",
       "      <td>328</td>\n",
       "      <td>87.0</td>\n",
       "    </tr>\n",
       "    <tr>\n",
       "      <th>Brazil</th>\n",
       "      <td>0.0</td>\n",
       "      <td>0.0</td>\n",
       "      <td>0.0</td>\n",
       "      <td>2020-01-23</td>\n",
       "      <td>NaN</td>\n",
       "      <td>NaN</td>\n",
       "      <td>NaN</td>\n",
       "      <td>NaN</td>\n",
       "      <td>NaN</td>\n",
       "      <td>NaN</td>\n",
       "      <td>210</td>\n",
       "      <td>64.0</td>\n",
       "    </tr>\n",
       "    <tr>\n",
       "      <th>US</th>\n",
       "      <td>1.0</td>\n",
       "      <td>0.0</td>\n",
       "      <td>0.0</td>\n",
       "      <td>2020-01-23</td>\n",
       "      <td>NaN</td>\n",
       "      <td>NaN</td>\n",
       "      <td>NaN</td>\n",
       "      <td>NaN</td>\n",
       "      <td>NaN</td>\n",
       "      <td>NaN</td>\n",
       "      <td>328</td>\n",
       "      <td>87.0</td>\n",
       "    </tr>\n",
       "    <tr>\n",
       "      <th>France</th>\n",
       "      <td>2.0</td>\n",
       "      <td>0.0</td>\n",
       "      <td>0.0</td>\n",
       "      <td>2020-01-24</td>\n",
       "      <td>NaN</td>\n",
       "      <td>NaN</td>\n",
       "      <td>NaN</td>\n",
       "      <td>NaN</td>\n",
       "      <td>NaN</td>\n",
       "      <td>NaN</td>\n",
       "      <td>67</td>\n",
       "      <td>319.0</td>\n",
       "    </tr>\n",
       "    <tr>\n",
       "      <th>US</th>\n",
       "      <td>2.0</td>\n",
       "      <td>0.0</td>\n",
       "      <td>0.0</td>\n",
       "      <td>2020-01-24</td>\n",
       "      <td>NaN</td>\n",
       "      <td>NaN</td>\n",
       "      <td>NaN</td>\n",
       "      <td>NaN</td>\n",
       "      <td>NaN</td>\n",
       "      <td>NaN</td>\n",
       "      <td>328</td>\n",
       "      <td>87.0</td>\n",
       "    </tr>\n",
       "  </tbody>\n",
       "</table>\n",
       "</div>"
      ],
      "text/plain": [
       "        Confirmed  Deaths  Recovered record_date  Latitude  Longitude  FIPS  \\\n",
       "US            1.0     0.0        0.0  2020-01-22       NaN        NaN   NaN   \n",
       "Brazil        0.0     0.0        0.0  2020-01-23       NaN        NaN   NaN   \n",
       "US            1.0     0.0        0.0  2020-01-23       NaN        NaN   NaN   \n",
       "France        2.0     0.0        0.0  2020-01-24       NaN        NaN   NaN   \n",
       "US            2.0     0.0        0.0  2020-01-24       NaN        NaN   NaN   \n",
       "\n",
       "        Lat  Long_  Active  Population(m)  Population density /sq mi  \n",
       "US      NaN    NaN     NaN            328                       87.0  \n",
       "Brazil  NaN    NaN     NaN            210                       64.0  \n",
       "US      NaN    NaN     NaN            328                       87.0  \n",
       "France  NaN    NaN     NaN             67                      319.0  \n",
       "US      NaN    NaN     NaN            328                       87.0  "
      ]
     },
     "execution_count": 10,
     "metadata": {},
     "output_type": "execute_result"
    }
   ],
   "source": []
  },
  {
   "cell_type": "code",
   "execution_count": 11,
   "metadata": {
    "ExecuteTime": {
     "end_time": "2020-05-16T14:28:40.387137Z",
     "start_time": "2020-05-16T14:28:39.976524Z"
    }
   },
   "outputs": [],
   "source": []
  },
  {
   "cell_type": "code",
   "execution_count": 12,
   "metadata": {
    "ExecuteTime": {
     "end_time": "2020-05-14T00:01:07.199306Z",
     "start_time": "2020-05-14T00:01:07.181385Z"
    }
   },
   "outputs": [
    {
     "name": "stderr",
     "output_type": "stream",
     "text": [
      "C:\\Users\\Vishal\\anaconda3\\lib\\site-packages\\pandas\\core\\frame.py:4133: SettingWithCopyWarning: \n",
      "A value is trying to be set on a copy of a slice from a DataFrame\n",
      "\n",
      "See the caveats in the documentation: https://pandas.pydata.org/pandas-docs/stable/user_guide/indexing.html#returning-a-view-versus-a-copy\n",
      "  errors=errors,\n"
     ]
    }
   ],
   "source": [
    "main_df2.rename(columns={\"Confirmed\": \"Confirmed cases\"}, inplace=True)"
   ]
  },
  {
   "cell_type": "code",
   "execution_count": 13,
   "metadata": {
    "ExecuteTime": {
     "end_time": "2020-05-14T00:01:17.216898Z",
     "start_time": "2020-05-14T00:01:14.498967Z"
    }
   },
   "outputs": [
    {
     "data": {
      "text/html": [
       "<div>\n",
       "<style scoped>\n",
       "    .dataframe tbody tr th:only-of-type {\n",
       "        vertical-align: middle;\n",
       "    }\n",
       "\n",
       "    .dataframe tbody tr th {\n",
       "        vertical-align: top;\n",
       "    }\n",
       "\n",
       "    .dataframe thead th {\n",
       "        text-align: right;\n",
       "    }\n",
       "</style>\n",
       "<table border=\"1\" class=\"dataframe\">\n",
       "  <thead>\n",
       "    <tr style=\"text-align: right;\">\n",
       "      <th></th>\n",
       "      <th>Confirmed cases</th>\n",
       "      <th>Deaths</th>\n",
       "      <th>Recovered</th>\n",
       "      <th>record_date</th>\n",
       "      <th>Latitude</th>\n",
       "      <th>Longitude</th>\n",
       "      <th>FIPS</th>\n",
       "      <th>Lat</th>\n",
       "      <th>Long_</th>\n",
       "      <th>Active</th>\n",
       "      <th>Population(m)</th>\n",
       "      <th>Population density /sq mi</th>\n",
       "    </tr>\n",
       "  </thead>\n",
       "  <tbody>\n",
       "    <tr>\n",
       "      <th>US</th>\n",
       "      <td>1.0</td>\n",
       "      <td>0.0</td>\n",
       "      <td>0.0</td>\n",
       "      <td>2020-01-22</td>\n",
       "      <td>NaN</td>\n",
       "      <td>NaN</td>\n",
       "      <td>NaN</td>\n",
       "      <td>NaN</td>\n",
       "      <td>NaN</td>\n",
       "      <td>NaN</td>\n",
       "      <td>328</td>\n",
       "      <td>87.0</td>\n",
       "    </tr>\n",
       "    <tr>\n",
       "      <th>Brazil</th>\n",
       "      <td>0.0</td>\n",
       "      <td>0.0</td>\n",
       "      <td>0.0</td>\n",
       "      <td>2020-01-23</td>\n",
       "      <td>NaN</td>\n",
       "      <td>NaN</td>\n",
       "      <td>NaN</td>\n",
       "      <td>NaN</td>\n",
       "      <td>NaN</td>\n",
       "      <td>NaN</td>\n",
       "      <td>210</td>\n",
       "      <td>64.0</td>\n",
       "    </tr>\n",
       "    <tr>\n",
       "      <th>US</th>\n",
       "      <td>1.0</td>\n",
       "      <td>0.0</td>\n",
       "      <td>0.0</td>\n",
       "      <td>2020-01-23</td>\n",
       "      <td>NaN</td>\n",
       "      <td>NaN</td>\n",
       "      <td>NaN</td>\n",
       "      <td>NaN</td>\n",
       "      <td>NaN</td>\n",
       "      <td>NaN</td>\n",
       "      <td>328</td>\n",
       "      <td>87.0</td>\n",
       "    </tr>\n",
       "    <tr>\n",
       "      <th>France</th>\n",
       "      <td>2.0</td>\n",
       "      <td>0.0</td>\n",
       "      <td>0.0</td>\n",
       "      <td>2020-01-24</td>\n",
       "      <td>NaN</td>\n",
       "      <td>NaN</td>\n",
       "      <td>NaN</td>\n",
       "      <td>NaN</td>\n",
       "      <td>NaN</td>\n",
       "      <td>NaN</td>\n",
       "      <td>67</td>\n",
       "      <td>319.0</td>\n",
       "    </tr>\n",
       "    <tr>\n",
       "      <th>US</th>\n",
       "      <td>2.0</td>\n",
       "      <td>0.0</td>\n",
       "      <td>0.0</td>\n",
       "      <td>2020-01-24</td>\n",
       "      <td>NaN</td>\n",
       "      <td>NaN</td>\n",
       "      <td>NaN</td>\n",
       "      <td>NaN</td>\n",
       "      <td>NaN</td>\n",
       "      <td>NaN</td>\n",
       "      <td>328</td>\n",
       "      <td>87.0</td>\n",
       "    </tr>\n",
       "  </tbody>\n",
       "</table>\n",
       "</div>"
      ],
      "text/plain": [
       "        Confirmed cases  Deaths  Recovered record_date  Latitude  Longitude  \\\n",
       "US                  1.0     0.0        0.0  2020-01-22       NaN        NaN   \n",
       "Brazil              0.0     0.0        0.0  2020-01-23       NaN        NaN   \n",
       "US                  1.0     0.0        0.0  2020-01-23       NaN        NaN   \n",
       "France              2.0     0.0        0.0  2020-01-24       NaN        NaN   \n",
       "US                  2.0     0.0        0.0  2020-01-24       NaN        NaN   \n",
       "\n",
       "        FIPS  Lat  Long_  Active  Population(m)  Population density /sq mi  \n",
       "US       NaN  NaN    NaN     NaN            328                       87.0  \n",
       "Brazil   NaN  NaN    NaN     NaN            210                       64.0  \n",
       "US       NaN  NaN    NaN     NaN            328                       87.0  \n",
       "France   NaN  NaN    NaN     NaN             67                      319.0  \n",
       "US       NaN  NaN    NaN     NaN            328                       87.0  "
      ]
     },
     "execution_count": 13,
     "metadata": {},
     "output_type": "execute_result"
    }
   ],
   "source": [
    "main_df2.head()"
   ]
  },
  {
   "cell_type": "code",
   "execution_count": 14,
   "metadata": {
    "ExecuteTime": {
     "end_time": "2020-05-14T00:04:29.658314Z",
     "start_time": "2020-05-14T00:04:29.635375Z"
    }
   },
   "outputs": [],
   "source": [
    "main_df2.to_excel(\"covid_aggregated_filtered_2.xls\")"
   ]
  },
  {
   "cell_type": "code",
   "execution_count": 17,
   "metadata": {
    "ExecuteTime": {
     "end_time": "2020-05-16T14:29:31.459164Z",
     "start_time": "2020-05-16T14:29:31.446141Z"
    }
   },
   "outputs": [],
   "source": [
    "dataset = main_df2.fillna(0)\n",
    "dataset=dataset.reset_index()\n",
    "\n",
    "dataset['index'] = dataset['index'].replace({'United Kingdom':'UK'})"
   ]
  },
  {
   "cell_type": "code",
   "execution_count": null,
   "metadata": {},
   "outputs": [],
   "source": []
  },
  {
   "cell_type": "code",
   "execution_count": 19,
   "metadata": {
    "ExecuteTime": {
     "end_time": "2020-05-16T14:29:43.627110Z",
     "start_time": "2020-05-16T14:29:43.620129Z"
    }
   },
   "outputs": [],
   "source": [
    "dataset=dataset[['index',\n",
    " #'Active',\n",
    " 'Confirmed',\n",
    " 'Deaths',\n",
    " #'FIPS',\n",
    " #'Lat',\n",
    " #'Latitude',\n",
    " #'Long_',\n",
    " #'Longitude',\n",
    " 'Recovered',\n",
    " 'record_date',\n",
    " 'Population(m)',\n",
    " 'Population density /sq mi']].copy()"
   ]
  },
  {
   "cell_type": "code",
   "execution_count": 20,
   "metadata": {
    "ExecuteTime": {
     "end_time": "2020-05-16T14:29:47.379030Z",
     "start_time": "2020-05-16T14:29:47.339135Z"
    }
   },
   "outputs": [],
   "source": [
    "dataset['Confirmed/million']=dataset['Confirmed']/dataset['Population(m)']\n",
    "dataset['Deaths/million']=dataset['Deaths']/dataset['Population(m)']"
   ]
  },
  {
   "cell_type": "code",
   "execution_count": 28,
   "metadata": {
    "ExecuteTime": {
     "end_time": "2020-05-16T14:35:42.319002Z",
     "start_time": "2020-05-16T14:35:42.286092Z"
    }
   },
   "outputs": [],
   "source": [
    "years = main_df2['record_date'].unique()\n",
    "\n",
    "t_positions=[\"top right\",\"bottom left\"]\n",
    "\n",
    "colors = {}\n",
    "colors_2 = [\n",
    "    '#2f4f4f',\n",
    "    '#006400',\n",
    "    '#b8860b',\n",
    "    '#cd5c5c',\n",
    "    '#7f007f',\n",
    "    '#ff0000',\n",
    "    '#00ced1',\n",
    "    '#ffff00',\n",
    "    '#00ff00',\n",
    "    '#0000ff',\n",
    "    '#ff00ff',\n",
    "    '#6495ed',\n",
    "    '#98fb98',\n",
    "    '#ffe4c4'\n",
    "]\n",
    "\n",
    "\n",
    "# make list of continents\n",
    "countries = []\n",
    "for country in dataset[\"index\"]:\n",
    "    if country not in countries:\n",
    "        countries.append(country)\n",
    "\n",
    "c=0\n",
    "for i in countries:\n",
    "    colors['{}'.format(i)]=['{}'.format(colors_2[c])]\n",
    "    c=c+1\n",
    "\n",
    "def create_animation(x_axis_column, y_axis_column, size_column):\n",
    "    \n",
    "    # make figure\n",
    "    fig_dict = {\n",
    "        \"data\": [],\n",
    "        \"layout\": {},\n",
    "        \"frames\": []\n",
    "    }\n",
    "\n",
    "    # fill in most of layout\n",
    "    fig_dict[\"layout\"][\"yaxis\"] = {\"range\": [-5, max(dataset[x_axis_column])+100], \"title\": \"{}\".format(x_axis_column)}\n",
    "    fig_dict[\"layout\"][\"xaxis\"] = {\"range\": [0, max(dataset[y_axis_column])+100], \"title\": \"{}\".format(y_axis_column)}\n",
    "    fig_dict[\"layout\"][\"hovermode\"] = \"closest\"\n",
    "    fig_dict[\"layout\"][\"updatemenus\"] = [\n",
    "        {\n",
    "            \"buttons\": [\n",
    "                {\n",
    "                    \"args\": [None, {\"frame\": {\"duration\": 500, \"redraw\": False},\n",
    "                                    \"fromcurrent\": True, \"transition\": {\"duration\": 300,\n",
    "                                                                        \"easing\": \"quadratic-in-out\"}}],\n",
    "                    \"label\": \"Play\",\n",
    "                    \"method\": \"animate\"\n",
    "                },\n",
    "                {\n",
    "                    \"args\": [[None], {\"frame\": {\"duration\": 0, \"redraw\": False},\n",
    "                                      \"mode\": \"immediate\",\n",
    "                                      \"transition\": {\"duration\": 0}}],\n",
    "                    \"label\": \"Pause\",\n",
    "                    \"method\": \"animate\"\n",
    "                }\n",
    "            ],\n",
    "            \"direction\": \"left\",\n",
    "            \"pad\": {\"r\": 10, \"t\": 87},\n",
    "            \"showactive\": False,\n",
    "            \"type\": \"buttons\",\n",
    "            \"x\": 0.1,\n",
    "            \"xanchor\": \"right\",\n",
    "            \"y\": 0,\n",
    "            \"yanchor\": \"top\"\n",
    "        }\n",
    "    ]\n",
    "\n",
    "    sliders_dict = {\n",
    "        \"active\": 38,\n",
    "        \"yanchor\": \"top\",\n",
    "        \"xanchor\": \"left\",\n",
    "        \"currentvalue\": {\n",
    "            \"font\": {\"size\": 20},\n",
    "            #\"prefix\": \"Date:\",\n",
    "            \"visible\": True,\n",
    "            \"xanchor\": \"right\"\n",
    "        },\n",
    "        \"transition\": {\"duration\": 300, \"easing\": \"cubic-in-out\"},\n",
    "        \"pad\": {\"b\": 10, \"t\": 50},\n",
    "        \"len\": 0.9,\n",
    "        \"x\": 0.1,\n",
    "        \"y\": 0,\n",
    "        \"steps\": []\n",
    "    }\n",
    "\n",
    "    # make data\n",
    "    year = years[0]\n",
    "    for country in countries:\n",
    "        dataset_by_year = dataset[dataset[\"record_date\"] == year]\n",
    "        dataset_by_year_and_cont = dataset_by_year[\n",
    "            dataset_by_year[\"index\"] == country]\n",
    "\n",
    "        data_dict = {\n",
    "            \"y\": dataset_by_year_and_cont[x_axis_column],\n",
    "            \"x\": dataset_by_year_and_cont[y_axis_column],\n",
    "            \"mode\": \"markers\",\n",
    "            \"text\": list(dataset_by_year_and_cont[\"index\"]),\n",
    "            \"marker\": {\n",
    "                \"sizemode\": \"area\",\n",
    "                #\"sizeref\": 200,\n",
    "                \"size\": list(dataset_by_year_and_cont[size_column])\n",
    "            },\n",
    "            \"name\": country\n",
    "        }\n",
    "        fig_dict[\"data\"].append(data_dict)\n",
    "\n",
    "\n",
    "    # make frames\n",
    "    for year in years:\n",
    "        frame = {\"data\": [], \"name\": str(year)}\n",
    "        for country in countries:\n",
    "            dataset_by_year = dataset[dataset[\"record_date\"] == year]\n",
    "            dataset_by_year_and_cont = dataset_by_year[\n",
    "                dataset_by_year[\"index\"] == country]\n",
    "\n",
    "            data_dict = {\n",
    "                \"y\": dataset_by_year_and_cont[x_axis_column],\n",
    "                \"x\": dataset_by_year_and_cont[y_axis_column],\n",
    "                \"mode\": \"markers+text\",\n",
    "                \"text\": list(dataset_by_year_and_cont[\"index\"]),\n",
    "                \"textposition\": \"top center\",\n",
    "                \"marker\": {\n",
    "                    \"sizemode\": \"area\",\n",
    "                    \"opacity\":0.5,\n",
    "                    #\"sizeref\": 200,\n",
    "                    \"size\": list(dataset_by_year_and_cont[size_column]),\n",
    "                    \"line\":dict(\n",
    "                        color='Black',\n",
    "                        width=2\n",
    "                    )\n",
    "                },\n",
    "                \"name\": country,\n",
    "                \"showlegend\": True,            \n",
    "            }\n",
    "\n",
    "\n",
    "            frame[\"data\"].append(data_dict)\n",
    "\n",
    "        fig_dict[\"frames\"].append(frame)\n",
    "\n",
    "\n",
    "        slider_step = {\"args\": [\n",
    "            [year],\n",
    "            {\"frame\": {\"duration\": 0, \"redraw\": False},\n",
    "             \"mode\": \"immediate\",\n",
    "             \"transition\": {\"duration\": 30}}\n",
    "        ],\n",
    "            \"label\": year.strftime('%d %b'),\n",
    "            \"method\": \"animate\"}\n",
    "        sliders_dict[\"steps\"].append(slider_step)\n",
    "\n",
    "\n",
    "    fig_dict[\"layout\"][\"sliders\"] = [sliders_dict]\n",
    "\n",
    "    fig = go.Figure(fig_dict)\n",
    "    fig.update_layout(template=\"plotly_white\",\n",
    "        autosize=False,\n",
    "        width=1050,\n",
    "        height=800,\n",
    "        #paper_bgcolor=\"LightSteelBlue\",\n",
    "        title=\"Covid-19 - Deaths vs. Population density - US & top 10 countries\"\n",
    "    )\n",
    "\n",
    "    return fig"
   ]
  },
  {
   "cell_type": "code",
   "execution_count": 35,
   "metadata": {
    "ExecuteTime": {
     "end_time": "2020-05-16T15:01:05.333750Z",
     "start_time": "2020-05-16T15:00:00.031555Z"
    }
   },
   "outputs": [
    {
     "name": "stdout",
     "output_type": "stream",
     "text": [
      " * Serving Flask app \"__main__\" (lazy loading)\n",
      " * Environment: production\n",
      "   WARNING: This is a development server. Do not use it in a production deployment.\n",
      "   Use a production WSGI server instead.\n",
      " * Debug mode: off\n"
     ]
    },
    {
     "name": "stderr",
     "output_type": "stream",
     "text": [
      " * Running on http://127.0.0.1:8050/ (Press CTRL+C to quit)\n",
      "127.0.0.1 - - [16/May/2020 16:00:02] \"GET / HTTP/1.1\" 200 -\n",
      "127.0.0.1 - - [16/May/2020 16:00:02] \"GET /_dash-component-suites/dash_renderer/react@16.v1_2_3m1589417292.8.6.min.js HTTP/1.1\" 200 -\n",
      "127.0.0.1 - - [16/May/2020 16:00:02] \"GET /_dash-component-suites/dash_renderer/polyfill@7.v1_2_3m1589417292.7.0.min.js HTTP/1.1\" 200 -\n",
      "127.0.0.1 - - [16/May/2020 16:00:02] \"GET /_dash-component-suites/dash_renderer/prop-types@15.v1_2_3m1589417292.7.2.min.js HTTP/1.1\" 200 -\n",
      "127.0.0.1 - - [16/May/2020 16:00:02] \"GET /_dash-component-suites/dash_renderer/react-dom@16.v1_2_3m1589417292.8.6.min.js HTTP/1.1\" 200 -\n",
      "127.0.0.1 - - [16/May/2020 16:00:02] \"GET /_dash-component-suites/dash_html_components/dash_html_components.v1_0_2m1580735332.min.js HTTP/1.1\" 200 -\n",
      "127.0.0.1 - - [16/May/2020 16:00:03] \"GET /_dash-component-suites/dash_core_components/dash_core_components-shared.v1_7_0m1580735329.js HTTP/1.1\" 200 -\n",
      "127.0.0.1 - - [16/May/2020 16:00:03] \"GET /_dash-component-suites/dash_core_components/dash_core_components.v1_7_0m1580735329.min.js HTTP/1.1\" 200 -\n",
      "127.0.0.1 - - [16/May/2020 16:00:03] \"GET /_dash-component-suites/dash_renderer/dash_renderer.v1_2_3m1589417292.min.js HTTP/1.1\" 200 -\n",
      "127.0.0.1 - - [16/May/2020 16:00:10] \"GET /_dash-dependencies HTTP/1.1\" 200 -\n",
      "127.0.0.1 - - [16/May/2020 16:00:10] \"GET /_dash-layout HTTP/1.1\" 200 -\n",
      "127.0.0.1 - - [16/May/2020 16:00:10] \"GET /_favicon.ico?v=1.8.0 HTTP/1.1\" 200 -\n",
      "127.0.0.1 - - [16/May/2020 16:00:23] \"POST /_dash-update-component HTTP/1.1\" 200 -\n"
     ]
    }
   ],
   "source": [
    "import dash\n",
    "import dash_core_components as dcc\n",
    "import dash_html_components as html\n",
    "import pandas as pd\n",
    "import plotly.graph_objects as go\n",
    "\n",
    "\n",
    "external_stylesheets = ['https://codepen.io/chriddyp/pen/bWLwgP.css', \"https://codepen.io/chriddyp/pen/brPBPO.css\"]\n",
    "\n",
    "app = dash.Dash(__name__, external_stylesheets=external_stylesheets)\n",
    "\n",
    "\n",
    "#df = pd.read_csv('https://plotly.github.io/datasets/country_indicators.csv')\n",
    "\n",
    "#available_indicators = df['Indicator Name'].unique()\n",
    "available_x_axis = [\n",
    "    'Confirmed',\n",
    "    'Recovered',\n",
    "    'Confirmed/million'\n",
    "]\n",
    "\n",
    "available_y_axis = [\n",
    "    'Deaths',\n",
    "    'Recovered',\n",
    "    'Deaths/million'\n",
    "]\n",
    "\n",
    "available_z_axis = [\n",
    " 'Population(m)',\n",
    " 'Population density /sq mi'\n",
    "]\n",
    "\n",
    "app.layout = html.Div([\n",
    "    html.Div([\n",
    "\n",
    "        html.Div([\n",
    "            html.Label([\"X-axis\"]),\n",
    "            dcc.Dropdown(\n",
    "                id='x-axis-selection', #'crossfilter-xaxis-column',\n",
    "                options=[{'label': i, 'value': i} for i in available_x_axis],\n",
    "                value='Confirmed/million'\n",
    "            ),\n",
    "\n",
    "        ],\n",
    "        style={'width': '20%', 'display': 'inline-block'}),\n",
    "\n",
    "        html.Div([\n",
    "            html.Label([\"Y-axis\"]),\n",
    "            dcc.Dropdown(\n",
    "                id='y-axis-selection', #'crossfilter-xaxis-column',\n",
    "                options=[{'label': i, 'value': i} for i in available_y_axis],\n",
    "                value='Deaths/million'\n",
    "            ),\n",
    "        ], style={'width': '20%', 'display': 'inline-block'}),\n",
    "        \n",
    "        html.Div([\n",
    "            html.Label([\"Bubble size\"]),\n",
    "            dcc.Dropdown(\n",
    "                id='z-axis-selection', #'crossfilter-xaxis-column',\n",
    "                options=[{'label': i, 'value': i} for i in available_z_axis],\n",
    "                value='Population(m)'\n",
    "            ),\n",
    "        ], style={'width': '20%', 'display': 'inline-block'})\n",
    "    ], style={\n",
    "        'borderBottom': 'thin lightgrey solid',\n",
    "        'backgroundColor': 'rgb(250, 250, 250)',\n",
    "        'padding': '10px 5px'\n",
    "    }),\n",
    "\n",
    "    html.Div([\n",
    "        html.Div([\n",
    "            dcc.Graph(\n",
    "                id='bubble-animation',\n",
    "                #hoverData={'points': [{'customdata': 'Japan'}]}\n",
    "            )  \n",
    "        ], style={'width': '100%', 'display': 'inline-block', 'padding': '0 20'}),\n",
    "        \n",
    "        html.Div([\n",
    "            \n",
    "        ])\n",
    "        ])\n",
    "        \n",
    "\n",
    "])\n",
    "\n",
    "@app.callback(\n",
    "    dash.dependencies.Output('bubble-animation', 'figure'),\n",
    "    [dash.dependencies.Input('x-axis-selection', 'value'),\n",
    "     dash.dependencies.Input('y-axis-selection', 'value'),\n",
    "     dash.dependencies.Input('z-axis-selection', 'value')])\n",
    "def update_graph(xaxis_column_name, yaxis_column_name, zaxis_column_name):\n",
    "    created_fig = create_animation(xaxis_column_name, yaxis_column_name, zaxis_column_name)\n",
    "\n",
    "    return created_fig\n",
    "\n",
    "if __name__ == '__main__':\n",
    "    app.run_server(debug=False)"
   ]
  },
  {
   "cell_type": "code",
   "execution_count": null,
   "metadata": {
    "ExecuteTime": {
     "end_time": "2020-05-14T00:48:16.554871Z",
     "start_time": "2020-05-14T00:48:10.702954Z"
    }
   },
   "outputs": [],
   "source": []
  },
  {
   "cell_type": "code",
   "execution_count": null,
   "metadata": {
    "ExecuteTime": {
     "end_time": "2020-05-16T14:05:57.965336Z",
     "start_time": "2020-05-16T14:05:57.926713Z"
    }
   },
   "outputs": [],
   "source": []
  },
  {
   "cell_type": "code",
   "execution_count": null,
   "metadata": {},
   "outputs": [],
   "source": []
  }
 ],
 "metadata": {
  "hide_input": false,
  "kernelspec": {
   "display_name": "Python 3",
   "language": "python",
   "name": "python3"
  },
  "language_info": {
   "codemirror_mode": {
    "name": "ipython",
    "version": 3
   },
   "file_extension": ".py",
   "mimetype": "text/x-python",
   "name": "python",
   "nbconvert_exporter": "python",
   "pygments_lexer": "ipython3",
   "version": "3.7.6"
  },
  "varInspector": {
   "cols": {
    "lenName": 16,
    "lenType": 16,
    "lenVar": 40
   },
   "kernels_config": {
    "python": {
     "delete_cmd_postfix": "",
     "delete_cmd_prefix": "del ",
     "library": "var_list.py",
     "varRefreshCmd": "print(var_dic_list())"
    },
    "r": {
     "delete_cmd_postfix": ") ",
     "delete_cmd_prefix": "rm(",
     "library": "var_list.r",
     "varRefreshCmd": "cat(var_dic_list()) "
    }
   },
   "types_to_exclude": [
    "module",
    "function",
    "builtin_function_or_method",
    "instance",
    "_Feature"
   ],
   "window_display": false
  }
 },
 "nbformat": 4,
 "nbformat_minor": 2
}
